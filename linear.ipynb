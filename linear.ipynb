{
 "cells": [
  {
   "cell_type": "code",
   "execution_count": 1,
   "id": "7aabdee7",
   "metadata": {},
   "outputs": [],
   "source": [
    "from sklearn.datasets import load_iris"
   ]
  },
  {
   "cell_type": "code",
   "execution_count": 2,
   "id": "b094ba1e",
   "metadata": {},
   "outputs": [],
   "source": [
    "data = load_iris()"
   ]
  },
  {
   "cell_type": "code",
   "execution_count": 3,
   "id": "e943c873",
   "metadata": {},
   "outputs": [
    {
     "name": "stdout",
     "output_type": "stream",
     "text": [
      "data\n",
      "target\n",
      "frame\n",
      "target_names\n",
      "DESCR\n",
      "feature_names\n",
      "filename\n",
      "data_module\n"
     ]
    }
   ],
   "source": [
    "for i in data:\n",
    "    print(i)"
   ]
  },
  {
   "cell_type": "code",
   "execution_count": 4,
   "id": "721654b8",
   "metadata": {},
   "outputs": [
    {
     "data": {
      "text/plain": [
       "array([[5.1, 3.5, 1.4, 0.2],\n",
       "       [4.9, 3. , 1.4, 0.2],\n",
       "       [4.7, 3.2, 1.3, 0.2],\n",
       "       [4.6, 3.1, 1.5, 0.2],\n",
       "       [5. , 3.6, 1.4, 0.2],\n",
       "       [5.4, 3.9, 1.7, 0.4],\n",
       "       [4.6, 3.4, 1.4, 0.3],\n",
       "       [5. , 3.4, 1.5, 0.2],\n",
       "       [4.4, 2.9, 1.4, 0.2],\n",
       "       [4.9, 3.1, 1.5, 0.1],\n",
       "       [5.4, 3.7, 1.5, 0.2],\n",
       "       [4.8, 3.4, 1.6, 0.2],\n",
       "       [4.8, 3. , 1.4, 0.1],\n",
       "       [4.3, 3. , 1.1, 0.1],\n",
       "       [5.8, 4. , 1.2, 0.2],\n",
       "       [5.7, 4.4, 1.5, 0.4],\n",
       "       [5.4, 3.9, 1.3, 0.4],\n",
       "       [5.1, 3.5, 1.4, 0.3],\n",
       "       [5.7, 3.8, 1.7, 0.3],\n",
       "       [5.1, 3.8, 1.5, 0.3],\n",
       "       [5.4, 3.4, 1.7, 0.2],\n",
       "       [5.1, 3.7, 1.5, 0.4],\n",
       "       [4.6, 3.6, 1. , 0.2],\n",
       "       [5.1, 3.3, 1.7, 0.5],\n",
       "       [4.8, 3.4, 1.9, 0.2],\n",
       "       [5. , 3. , 1.6, 0.2],\n",
       "       [5. , 3.4, 1.6, 0.4],\n",
       "       [5.2, 3.5, 1.5, 0.2],\n",
       "       [5.2, 3.4, 1.4, 0.2],\n",
       "       [4.7, 3.2, 1.6, 0.2],\n",
       "       [4.8, 3.1, 1.6, 0.2],\n",
       "       [5.4, 3.4, 1.5, 0.4],\n",
       "       [5.2, 4.1, 1.5, 0.1],\n",
       "       [5.5, 4.2, 1.4, 0.2],\n",
       "       [4.9, 3.1, 1.5, 0.2],\n",
       "       [5. , 3.2, 1.2, 0.2],\n",
       "       [5.5, 3.5, 1.3, 0.2],\n",
       "       [4.9, 3.6, 1.4, 0.1],\n",
       "       [4.4, 3. , 1.3, 0.2],\n",
       "       [5.1, 3.4, 1.5, 0.2],\n",
       "       [5. , 3.5, 1.3, 0.3],\n",
       "       [4.5, 2.3, 1.3, 0.3],\n",
       "       [4.4, 3.2, 1.3, 0.2],\n",
       "       [5. , 3.5, 1.6, 0.6],\n",
       "       [5.1, 3.8, 1.9, 0.4],\n",
       "       [4.8, 3. , 1.4, 0.3],\n",
       "       [5.1, 3.8, 1.6, 0.2],\n",
       "       [4.6, 3.2, 1.4, 0.2],\n",
       "       [5.3, 3.7, 1.5, 0.2],\n",
       "       [5. , 3.3, 1.4, 0.2],\n",
       "       [7. , 3.2, 4.7, 1.4],\n",
       "       [6.4, 3.2, 4.5, 1.5],\n",
       "       [6.9, 3.1, 4.9, 1.5],\n",
       "       [5.5, 2.3, 4. , 1.3],\n",
       "       [6.5, 2.8, 4.6, 1.5],\n",
       "       [5.7, 2.8, 4.5, 1.3],\n",
       "       [6.3, 3.3, 4.7, 1.6],\n",
       "       [4.9, 2.4, 3.3, 1. ],\n",
       "       [6.6, 2.9, 4.6, 1.3],\n",
       "       [5.2, 2.7, 3.9, 1.4],\n",
       "       [5. , 2. , 3.5, 1. ],\n",
       "       [5.9, 3. , 4.2, 1.5],\n",
       "       [6. , 2.2, 4. , 1. ],\n",
       "       [6.1, 2.9, 4.7, 1.4],\n",
       "       [5.6, 2.9, 3.6, 1.3],\n",
       "       [6.7, 3.1, 4.4, 1.4],\n",
       "       [5.6, 3. , 4.5, 1.5],\n",
       "       [5.8, 2.7, 4.1, 1. ],\n",
       "       [6.2, 2.2, 4.5, 1.5],\n",
       "       [5.6, 2.5, 3.9, 1.1],\n",
       "       [5.9, 3.2, 4.8, 1.8],\n",
       "       [6.1, 2.8, 4. , 1.3],\n",
       "       [6.3, 2.5, 4.9, 1.5],\n",
       "       [6.1, 2.8, 4.7, 1.2],\n",
       "       [6.4, 2.9, 4.3, 1.3],\n",
       "       [6.6, 3. , 4.4, 1.4],\n",
       "       [6.8, 2.8, 4.8, 1.4],\n",
       "       [6.7, 3. , 5. , 1.7],\n",
       "       [6. , 2.9, 4.5, 1.5],\n",
       "       [5.7, 2.6, 3.5, 1. ],\n",
       "       [5.5, 2.4, 3.8, 1.1],\n",
       "       [5.5, 2.4, 3.7, 1. ],\n",
       "       [5.8, 2.7, 3.9, 1.2],\n",
       "       [6. , 2.7, 5.1, 1.6],\n",
       "       [5.4, 3. , 4.5, 1.5],\n",
       "       [6. , 3.4, 4.5, 1.6],\n",
       "       [6.7, 3.1, 4.7, 1.5],\n",
       "       [6.3, 2.3, 4.4, 1.3],\n",
       "       [5.6, 3. , 4.1, 1.3],\n",
       "       [5.5, 2.5, 4. , 1.3],\n",
       "       [5.5, 2.6, 4.4, 1.2],\n",
       "       [6.1, 3. , 4.6, 1.4],\n",
       "       [5.8, 2.6, 4. , 1.2],\n",
       "       [5. , 2.3, 3.3, 1. ],\n",
       "       [5.6, 2.7, 4.2, 1.3],\n",
       "       [5.7, 3. , 4.2, 1.2],\n",
       "       [5.7, 2.9, 4.2, 1.3],\n",
       "       [6.2, 2.9, 4.3, 1.3],\n",
       "       [5.1, 2.5, 3. , 1.1],\n",
       "       [5.7, 2.8, 4.1, 1.3],\n",
       "       [6.3, 3.3, 6. , 2.5],\n",
       "       [5.8, 2.7, 5.1, 1.9],\n",
       "       [7.1, 3. , 5.9, 2.1],\n",
       "       [6.3, 2.9, 5.6, 1.8],\n",
       "       [6.5, 3. , 5.8, 2.2],\n",
       "       [7.6, 3. , 6.6, 2.1],\n",
       "       [4.9, 2.5, 4.5, 1.7],\n",
       "       [7.3, 2.9, 6.3, 1.8],\n",
       "       [6.7, 2.5, 5.8, 1.8],\n",
       "       [7.2, 3.6, 6.1, 2.5],\n",
       "       [6.5, 3.2, 5.1, 2. ],\n",
       "       [6.4, 2.7, 5.3, 1.9],\n",
       "       [6.8, 3. , 5.5, 2.1],\n",
       "       [5.7, 2.5, 5. , 2. ],\n",
       "       [5.8, 2.8, 5.1, 2.4],\n",
       "       [6.4, 3.2, 5.3, 2.3],\n",
       "       [6.5, 3. , 5.5, 1.8],\n",
       "       [7.7, 3.8, 6.7, 2.2],\n",
       "       [7.7, 2.6, 6.9, 2.3],\n",
       "       [6. , 2.2, 5. , 1.5],\n",
       "       [6.9, 3.2, 5.7, 2.3],\n",
       "       [5.6, 2.8, 4.9, 2. ],\n",
       "       [7.7, 2.8, 6.7, 2. ],\n",
       "       [6.3, 2.7, 4.9, 1.8],\n",
       "       [6.7, 3.3, 5.7, 2.1],\n",
       "       [7.2, 3.2, 6. , 1.8],\n",
       "       [6.2, 2.8, 4.8, 1.8],\n",
       "       [6.1, 3. , 4.9, 1.8],\n",
       "       [6.4, 2.8, 5.6, 2.1],\n",
       "       [7.2, 3. , 5.8, 1.6],\n",
       "       [7.4, 2.8, 6.1, 1.9],\n",
       "       [7.9, 3.8, 6.4, 2. ],\n",
       "       [6.4, 2.8, 5.6, 2.2],\n",
       "       [6.3, 2.8, 5.1, 1.5],\n",
       "       [6.1, 2.6, 5.6, 1.4],\n",
       "       [7.7, 3. , 6.1, 2.3],\n",
       "       [6.3, 3.4, 5.6, 2.4],\n",
       "       [6.4, 3.1, 5.5, 1.8],\n",
       "       [6. , 3. , 4.8, 1.8],\n",
       "       [6.9, 3.1, 5.4, 2.1],\n",
       "       [6.7, 3.1, 5.6, 2.4],\n",
       "       [6.9, 3.1, 5.1, 2.3],\n",
       "       [5.8, 2.7, 5.1, 1.9],\n",
       "       [6.8, 3.2, 5.9, 2.3],\n",
       "       [6.7, 3.3, 5.7, 2.5],\n",
       "       [6.7, 3. , 5.2, 2.3],\n",
       "       [6.3, 2.5, 5. , 1.9],\n",
       "       [6.5, 3. , 5.2, 2. ],\n",
       "       [6.2, 3.4, 5.4, 2.3],\n",
       "       [5.9, 3. , 5.1, 1.8]])"
      ]
     },
     "execution_count": 4,
     "metadata": {},
     "output_type": "execute_result"
    }
   ],
   "source": [
    "data['data']"
   ]
  },
  {
   "cell_type": "code",
   "execution_count": 5,
   "id": "f51d979b",
   "metadata": {},
   "outputs": [
    {
     "data": {
      "text/plain": [
       "array([0, 0, 0, 0, 0, 0, 0, 0, 0, 0, 0, 0, 0, 0, 0, 0, 0, 0, 0, 0, 0, 0,\n",
       "       0, 0, 0, 0, 0, 0, 0, 0, 0, 0, 0, 0, 0, 0, 0, 0, 0, 0, 0, 0, 0, 0,\n",
       "       0, 0, 0, 0, 0, 0, 1, 1, 1, 1, 1, 1, 1, 1, 1, 1, 1, 1, 1, 1, 1, 1,\n",
       "       1, 1, 1, 1, 1, 1, 1, 1, 1, 1, 1, 1, 1, 1, 1, 1, 1, 1, 1, 1, 1, 1,\n",
       "       1, 1, 1, 1, 1, 1, 1, 1, 1, 1, 1, 1, 2, 2, 2, 2, 2, 2, 2, 2, 2, 2,\n",
       "       2, 2, 2, 2, 2, 2, 2, 2, 2, 2, 2, 2, 2, 2, 2, 2, 2, 2, 2, 2, 2, 2,\n",
       "       2, 2, 2, 2, 2, 2, 2, 2, 2, 2, 2, 2, 2, 2, 2, 2, 2, 2])"
      ]
     },
     "execution_count": 5,
     "metadata": {},
     "output_type": "execute_result"
    }
   ],
   "source": [
    "data['target']"
   ]
  },
  {
   "cell_type": "code",
   "execution_count": 8,
   "id": "a8c14303",
   "metadata": {},
   "outputs": [
    {
     "name": "stdout",
     "output_type": "stream",
     "text": [
      "150 150\n"
     ]
    }
   ],
   "source": [
    "print(len(data['data']),len(data['target']))"
   ]
  },
  {
   "cell_type": "code",
   "execution_count": 9,
   "id": "f3db59e2",
   "metadata": {},
   "outputs": [],
   "source": [
    "input = data['data']\n",
    "labels = data['target']"
   ]
  },
  {
   "cell_type": "code",
   "execution_count": 10,
   "id": "a6eb58d5",
   "metadata": {},
   "outputs": [
    {
     "name": "stdout",
     "output_type": "stream",
     "text": [
      "<class 'numpy.ndarray'> <class 'numpy.ndarray'>\n"
     ]
    }
   ],
   "source": [
    "print(type(input), type(labels))"
   ]
  },
  {
   "cell_type": "code",
   "execution_count": 11,
   "id": "14790233",
   "metadata": {},
   "outputs": [],
   "source": [
    "import torch"
   ]
  },
  {
   "cell_type": "code",
   "execution_count": 68,
   "id": "d226857f",
   "metadata": {},
   "outputs": [
    {
     "data": {
      "text/plain": [
       "True"
      ]
     },
     "execution_count": 68,
     "metadata": {},
     "output_type": "execute_result"
    }
   ],
   "source": [
    "torch.cuda.is_available()"
   ]
  },
  {
   "cell_type": "code",
   "execution_count": 67,
   "id": "734014e2",
   "metadata": {},
   "outputs": [],
   "source": [
    "input = torch.FloatTensor(input)\n",
    "labels = torch.LongTensor(labels)\n",
    "\n",
    "input = input.cuda()\n",
    "labels = labels.cuda()"
   ]
  },
  {
   "cell_type": "code",
   "execution_count": 13,
   "id": "d877a9ce",
   "metadata": {},
   "outputs": [
    {
     "name": "stdout",
     "output_type": "stream",
     "text": [
      "<class 'torch.Tensor'> <class 'torch.Tensor'>\n"
     ]
    }
   ],
   "source": [
    "print(type(input), type(labels))"
   ]
  },
  {
   "cell_type": "code",
   "execution_count": 21,
   "id": "cb43846d",
   "metadata": {},
   "outputs": [],
   "source": [
    "import torch.nn as nn\n",
    "import torch.optim as optim\n",
    "import torch.nn.functional as F"
   ]
  },
  {
   "cell_type": "code",
   "execution_count": 24,
   "id": "c8a079d7",
   "metadata": {},
   "outputs": [],
   "source": [
    "class LeNet(nn.Module):\n",
    "    \n",
    "    def __init__(self):\n",
    "        super(LeNet, self).__init__()\n",
    "        \n",
    "        self.fc1 = nn.Linear(4,9)\n",
    "        self.fc2 = nn.Linear(9,5)\n",
    "        self.fc3 = nn.Linear(5,10)\n",
    "        self.fc4 = nn.Linear(10, 3)\n",
    "           \n",
    "    def forward(self, x):\n",
    "        \n",
    "        x = F.relu(self.fc1(x))\n",
    "        x = F.relu(self.fc2(x))\n",
    "        x = F.relu(self.fc3(x))\n",
    "        x = self.fc4(x)\n",
    "        \n",
    "        return x"
   ]
  },
  {
   "cell_type": "code",
   "execution_count": 69,
   "id": "1cace776",
   "metadata": {},
   "outputs": [],
   "source": [
    "net = LeNet()\n",
    "net = net.cuda()"
   ]
  },
  {
   "cell_type": "code",
   "execution_count": 26,
   "id": "73c10b97",
   "metadata": {},
   "outputs": [
    {
     "name": "stdout",
     "output_type": "stream",
     "text": [
      "tensor([-0.0405,  0.1438,  0.1334], grad_fn=<AddBackward0>)\n"
     ]
    }
   ],
   "source": [
    "res_test = net(input[0])\n",
    "print(res_test)"
   ]
  },
  {
   "cell_type": "code",
   "execution_count": 29,
   "id": "bae756fa",
   "metadata": {},
   "outputs": [
    {
     "name": "stdout",
     "output_type": "stream",
     "text": [
      "tensor([[5.1000, 3.5000, 1.4000, 0.2000],\n",
      "        [4.9000, 3.0000, 1.4000, 0.2000],\n",
      "        [4.7000, 3.2000, 1.3000, 0.2000],\n",
      "        [4.6000, 3.1000, 1.5000, 0.2000]]) tensor([0, 0, 0, 0])\n"
     ]
    }
   ],
   "source": [
    "print(input[:4,], labels[:4,])"
   ]
  },
  {
   "cell_type": "code",
   "execution_count": 48,
   "id": "97245c6f",
   "metadata": {},
   "outputs": [],
   "source": [
    "criterion = nn.CrossEntropyLoss()\n",
    "optimizer = optim.SGD(net.parameters(), lr=0.001, momentum=0.9)"
   ]
  },
  {
   "cell_type": "code",
   "execution_count": 58,
   "id": "dfaaa948",
   "metadata": {},
   "outputs": [],
   "source": [
    "from tqdm import tqdm"
   ]
  },
  {
   "cell_type": "code",
   "execution_count": 70,
   "id": "b5b34f02",
   "metadata": {},
   "outputs": [
    {
     "name": "stderr",
     "output_type": "stream",
     "text": [
      " 37%|██████████████████████████████                                                    | 11/30 [00:14<00:17,  1.06it/s]"
     ]
    },
    {
     "name": "stdout",
     "output_type": "stream",
     "text": [
      "[1,    1] loss: 0.043\n"
     ]
    },
    {
     "name": "stderr",
     "output_type": "stream",
     "text": [
      "100%|██████████████████████████████████████████████████████████████████████████████████| 30/30 [00:14<00:00,  2.07it/s]\n"
     ]
    },
    {
     "name": "stdout",
     "output_type": "stream",
     "text": [
      "[1,   30] loss: 1.069\n"
     ]
    },
    {
     "name": "stderr",
     "output_type": "stream",
     "text": [
      "100%|█████████████████████████████████████████████████████████████████████████████████| 30/30 [00:00<00:00, 333.33it/s]\n"
     ]
    },
    {
     "name": "stdout",
     "output_type": "stream",
     "text": [
      "[2,    1] loss: 0.043\n",
      "[2,   30] loss: 1.069\n"
     ]
    },
    {
     "name": "stderr",
     "output_type": "stream",
     "text": [
      "\r",
      "  0%|                                                                                           | 0/30 [00:00<?, ?it/s]"
     ]
    },
    {
     "name": "stdout",
     "output_type": "stream",
     "text": [
      "[3,    1] loss: 0.043\n"
     ]
    },
    {
     "name": "stderr",
     "output_type": "stream",
     "text": [
      "100%|█████████████████████████████████████████████████████████████████████████████████| 30/30 [00:00<00:00, 197.40it/s]\n"
     ]
    },
    {
     "name": "stdout",
     "output_type": "stream",
     "text": [
      "[3,   30] loss: 1.069\n"
     ]
    },
    {
     "name": "stderr",
     "output_type": "stream",
     "text": [
      "\r",
      "  0%|                                                                                           | 0/30 [00:00<?, ?it/s]"
     ]
    },
    {
     "name": "stdout",
     "output_type": "stream",
     "text": [
      "[4,    1] loss: 0.043\n"
     ]
    },
    {
     "name": "stderr",
     "output_type": "stream",
     "text": [
      "100%|█████████████████████████████████████████████████████████████████████████████████| 30/30 [00:00<00:00, 362.37it/s]\n"
     ]
    },
    {
     "name": "stdout",
     "output_type": "stream",
     "text": [
      "[4,   30] loss: 1.069\n"
     ]
    },
    {
     "name": "stderr",
     "output_type": "stream",
     "text": [
      "100%|█████████████████████████████████████████████████████████████████████████████████| 30/30 [00:00<00:00, 392.71it/s]\n"
     ]
    },
    {
     "name": "stdout",
     "output_type": "stream",
     "text": [
      "[5,    1] loss: 0.043\n",
      "[5,   30] loss: 1.069\n"
     ]
    },
    {
     "name": "stderr",
     "output_type": "stream",
     "text": [
      "\r",
      "  0%|                                                                                           | 0/30 [00:00<?, ?it/s]"
     ]
    },
    {
     "name": "stdout",
     "output_type": "stream",
     "text": [
      "[6,    1] loss: 0.043\n"
     ]
    },
    {
     "name": "stderr",
     "output_type": "stream",
     "text": [
      "100%|█████████████████████████████████████████████████████████████████████████████████| 30/30 [00:00<00:00, 461.36it/s]\n"
     ]
    },
    {
     "name": "stdout",
     "output_type": "stream",
     "text": [
      "[6,   30] loss: 1.069\n"
     ]
    },
    {
     "name": "stderr",
     "output_type": "stream",
     "text": [
      "\r",
      "  0%|                                                                                           | 0/30 [00:00<?, ?it/s]"
     ]
    },
    {
     "name": "stdout",
     "output_type": "stream",
     "text": [
      "[7,    1] loss: 0.043\n"
     ]
    },
    {
     "name": "stderr",
     "output_type": "stream",
     "text": [
      "100%|█████████████████████████████████████████████████████████████████████████████████| 30/30 [00:00<00:00, 454.55it/s]\n"
     ]
    },
    {
     "name": "stdout",
     "output_type": "stream",
     "text": [
      "[7,   30] loss: 1.069\n"
     ]
    },
    {
     "name": "stderr",
     "output_type": "stream",
     "text": [
      "100%|█████████████████████████████████████████████████████████████████████████████████| 30/30 [00:00<00:00, 461.55it/s]"
     ]
    },
    {
     "name": "stdout",
     "output_type": "stream",
     "text": [
      "[8,    1] loss: 0.043\n",
      "[8,   30] loss: 1.069\n"
     ]
    },
    {
     "name": "stderr",
     "output_type": "stream",
     "text": [
      "\n",
      "  0%|                                                                                           | 0/30 [00:00<?, ?it/s]"
     ]
    },
    {
     "name": "stdout",
     "output_type": "stream",
     "text": [
      "[9,    1] loss: 0.043\n"
     ]
    },
    {
     "name": "stderr",
     "output_type": "stream",
     "text": [
      "100%|█████████████████████████████████████████████████████████████████████████████████| 30/30 [00:00<00:00, 389.62it/s]\n"
     ]
    },
    {
     "name": "stdout",
     "output_type": "stream",
     "text": [
      "[9,   30] loss: 1.069\n"
     ]
    },
    {
     "name": "stderr",
     "output_type": "stream",
     "text": [
      "\r",
      "  0%|                                                                                           | 0/30 [00:00<?, ?it/s]"
     ]
    },
    {
     "name": "stdout",
     "output_type": "stream",
     "text": [
      "[10,    1] loss: 0.043\n"
     ]
    },
    {
     "name": "stderr",
     "output_type": "stream",
     "text": [
      "100%|█████████████████████████████████████████████████████████████████████████████████| 30/30 [00:00<00:00, 315.80it/s]\n"
     ]
    },
    {
     "name": "stdout",
     "output_type": "stream",
     "text": [
      "[10,   30] loss: 1.069\n"
     ]
    },
    {
     "name": "stderr",
     "output_type": "stream",
     "text": [
      "\r",
      "  0%|                                                                                           | 0/30 [00:00<?, ?it/s]"
     ]
    },
    {
     "name": "stdout",
     "output_type": "stream",
     "text": [
      "[11,    1] loss: 0.043\n"
     ]
    },
    {
     "name": "stderr",
     "output_type": "stream",
     "text": [
      "\r",
      "100%|█████████████████████████████████████████████████████████████████████████████████| 30/30 [00:00<00:00, 374.99it/s]"
     ]
    },
    {
     "name": "stdout",
     "output_type": "stream",
     "text": [
      "[11,   30] loss: 1.069\n"
     ]
    },
    {
     "name": "stderr",
     "output_type": "stream",
     "text": [
      "\n",
      "  0%|                                                                                           | 0/30 [00:00<?, ?it/s]"
     ]
    },
    {
     "name": "stdout",
     "output_type": "stream",
     "text": [
      "[12,    1] loss: 0.043\n"
     ]
    },
    {
     "name": "stderr",
     "output_type": "stream",
     "text": [
      "100%|█████████████████████████████████████████████████████████████████████████████████| 30/30 [00:00<00:00, 370.38it/s]\n"
     ]
    },
    {
     "name": "stdout",
     "output_type": "stream",
     "text": [
      "[12,   30] loss: 1.069\n"
     ]
    },
    {
     "name": "stderr",
     "output_type": "stream",
     "text": [
      "\r",
      "  0%|                                                                                           | 0/30 [00:00<?, ?it/s]"
     ]
    },
    {
     "name": "stdout",
     "output_type": "stream",
     "text": [
      "[13,    1] loss: 0.043\n"
     ]
    },
    {
     "name": "stderr",
     "output_type": "stream",
     "text": [
      "\r",
      "100%|█████████████████████████████████████████████████████████████████████████████████| 30/30 [00:00<00:00, 303.03it/s]"
     ]
    },
    {
     "name": "stdout",
     "output_type": "stream",
     "text": [
      "[13,   30] loss: 1.069\n"
     ]
    },
    {
     "name": "stderr",
     "output_type": "stream",
     "text": [
      "\n",
      "100%|█████████████████████████████████████████████████████████████████████████████████| 30/30 [00:00<00:00, 416.67it/s]\n"
     ]
    },
    {
     "name": "stdout",
     "output_type": "stream",
     "text": [
      "[14,    1] loss: 0.043\n",
      "[14,   30] loss: 1.069\n"
     ]
    },
    {
     "name": "stderr",
     "output_type": "stream",
     "text": [
      "\r",
      "  0%|                                                                                           | 0/30 [00:00<?, ?it/s]"
     ]
    },
    {
     "name": "stdout",
     "output_type": "stream",
     "text": [
      "[15,    1] loss: 0.043\n"
     ]
    },
    {
     "name": "stderr",
     "output_type": "stream",
     "text": [
      "100%|█████████████████████████████████████████████████████████████████████████████████| 30/30 [00:00<00:00, 405.40it/s]\n"
     ]
    },
    {
     "name": "stdout",
     "output_type": "stream",
     "text": [
      "[15,   30] loss: 1.069\n"
     ]
    },
    {
     "name": "stderr",
     "output_type": "stream",
     "text": [
      "\r",
      "  0%|                                                                                           | 0/30 [00:00<?, ?it/s]"
     ]
    },
    {
     "name": "stdout",
     "output_type": "stream",
     "text": [
      "[16,    1] loss: 0.043\n"
     ]
    },
    {
     "name": "stderr",
     "output_type": "stream",
     "text": [
      "100%|█████████████████████████████████████████████████████████████████████████████████| 30/30 [00:00<00:00, 441.20it/s]\n"
     ]
    },
    {
     "name": "stdout",
     "output_type": "stream",
     "text": [
      "[16,   30] loss: 1.069\n"
     ]
    },
    {
     "name": "stderr",
     "output_type": "stream",
     "text": [
      "\r",
      "  0%|                                                                                           | 0/30 [00:00<?, ?it/s]"
     ]
    },
    {
     "name": "stdout",
     "output_type": "stream",
     "text": [
      "[17,    1] loss: 0.043\n"
     ]
    },
    {
     "name": "stderr",
     "output_type": "stream",
     "text": [
      "100%|█████████████████████████████████████████████████████████████████████████████████| 30/30 [00:00<00:00, 379.76it/s]\n"
     ]
    },
    {
     "name": "stdout",
     "output_type": "stream",
     "text": [
      "[17,   30] loss: 1.069\n"
     ]
    },
    {
     "name": "stderr",
     "output_type": "stream",
     "text": [
      "\r",
      "  0%|                                                                                           | 0/30 [00:00<?, ?it/s]"
     ]
    },
    {
     "name": "stdout",
     "output_type": "stream",
     "text": [
      "[18,    1] loss: 0.043\n"
     ]
    },
    {
     "name": "stderr",
     "output_type": "stream",
     "text": [
      "100%|█████████████████████████████████████████████████████████████████████████████████| 30/30 [00:00<00:00, 384.62it/s]\n"
     ]
    },
    {
     "name": "stdout",
     "output_type": "stream",
     "text": [
      "[18,   30] loss: 1.069\n"
     ]
    },
    {
     "name": "stderr",
     "output_type": "stream",
     "text": [
      "\r",
      "  0%|                                                                                           | 0/30 [00:00<?, ?it/s]"
     ]
    },
    {
     "name": "stdout",
     "output_type": "stream",
     "text": [
      "[19,    1] loss: 0.043\n"
     ]
    },
    {
     "name": "stderr",
     "output_type": "stream",
     "text": [
      "100%|█████████████████████████████████████████████████████████████████████████████████| 30/30 [00:00<00:00, 379.75it/s]\n"
     ]
    },
    {
     "name": "stdout",
     "output_type": "stream",
     "text": [
      "[19,   30] loss: 1.069\n"
     ]
    },
    {
     "name": "stderr",
     "output_type": "stream",
     "text": [
      "\r",
      "  0%|                                                                                           | 0/30 [00:00<?, ?it/s]"
     ]
    },
    {
     "name": "stdout",
     "output_type": "stream",
     "text": [
      "[20,    1] loss: 0.043\n"
     ]
    },
    {
     "name": "stderr",
     "output_type": "stream",
     "text": [
      "100%|█████████████████████████████████████████████████████████████████████████████████| 30/30 [00:00<00:00, 405.42it/s]\n"
     ]
    },
    {
     "name": "stdout",
     "output_type": "stream",
     "text": [
      "[20,   30] loss: 1.069\n"
     ]
    },
    {
     "name": "stderr",
     "output_type": "stream",
     "text": [
      "\r",
      "  0%|                                                                                           | 0/30 [00:00<?, ?it/s]"
     ]
    },
    {
     "name": "stdout",
     "output_type": "stream",
     "text": [
      "[21,    1] loss: 0.043\n"
     ]
    },
    {
     "name": "stderr",
     "output_type": "stream",
     "text": [
      "100%|█████████████████████████████████████████████████████████████████████████████████| 30/30 [00:00<00:00, 441.17it/s]\n"
     ]
    },
    {
     "name": "stdout",
     "output_type": "stream",
     "text": [
      "[21,   30] loss: 1.069\n"
     ]
    },
    {
     "name": "stderr",
     "output_type": "stream",
     "text": [
      "\r",
      "  0%|                                                                                           | 0/30 [00:00<?, ?it/s]"
     ]
    },
    {
     "name": "stdout",
     "output_type": "stream",
     "text": [
      "[22,    1] loss: 0.043\n"
     ]
    },
    {
     "name": "stderr",
     "output_type": "stream",
     "text": [
      "100%|█████████████████████████████████████████████████████████████████████████████████| 30/30 [00:00<00:00, 447.76it/s]\n"
     ]
    },
    {
     "name": "stdout",
     "output_type": "stream",
     "text": [
      "[22,   30] loss: 1.069\n"
     ]
    },
    {
     "name": "stderr",
     "output_type": "stream",
     "text": [
      "\r",
      "  0%|                                                                                           | 0/30 [00:00<?, ?it/s]"
     ]
    },
    {
     "name": "stdout",
     "output_type": "stream",
     "text": [
      "[23,    1] loss: 0.043\n"
     ]
    },
    {
     "name": "stderr",
     "output_type": "stream",
     "text": [
      "100%|█████████████████████████████████████████████████████████████████████████████████| 30/30 [00:00<00:00, 447.74it/s]\n"
     ]
    },
    {
     "name": "stdout",
     "output_type": "stream",
     "text": [
      "[23,   30] loss: 1.069\n"
     ]
    },
    {
     "name": "stderr",
     "output_type": "stream",
     "text": [
      "\r",
      "  0%|                                                                                           | 0/30 [00:00<?, ?it/s]"
     ]
    },
    {
     "name": "stdout",
     "output_type": "stream",
     "text": [
      "[24,    1] loss: 0.043\n"
     ]
    },
    {
     "name": "stderr",
     "output_type": "stream",
     "text": [
      "100%|█████████████████████████████████████████████████████████████████████████████████| 30/30 [00:00<00:00, 312.50it/s]\n"
     ]
    },
    {
     "name": "stdout",
     "output_type": "stream",
     "text": [
      "[24,   30] loss: 1.069\n"
     ]
    },
    {
     "name": "stderr",
     "output_type": "stream",
     "text": [
      "\r",
      "  0%|                                                                                           | 0/30 [00:00<?, ?it/s]"
     ]
    },
    {
     "name": "stdout",
     "output_type": "stream",
     "text": [
      "[25,    1] loss: 0.043\n"
     ]
    },
    {
     "name": "stderr",
     "output_type": "stream",
     "text": [
      "100%|█████████████████████████████████████████████████████████████████████████████████| 30/30 [00:00<00:00, 416.68it/s]\n"
     ]
    },
    {
     "name": "stdout",
     "output_type": "stream",
     "text": [
      "[25,   30] loss: 1.069\n"
     ]
    },
    {
     "name": "stderr",
     "output_type": "stream",
     "text": [
      "\r",
      "  0%|                                                                                           | 0/30 [00:00<?, ?it/s]"
     ]
    },
    {
     "name": "stdout",
     "output_type": "stream",
     "text": [
      "[26,    1] loss: 0.043\n"
     ]
    },
    {
     "name": "stderr",
     "output_type": "stream",
     "text": [
      "100%|█████████████████████████████████████████████████████████████████████████████████| 30/30 [00:00<00:00, 410.97it/s]\n"
     ]
    },
    {
     "name": "stdout",
     "output_type": "stream",
     "text": [
      "[26,   30] loss: 1.069\n"
     ]
    },
    {
     "name": "stderr",
     "output_type": "stream",
     "text": [
      "\r",
      "  0%|                                                                                           | 0/30 [00:00<?, ?it/s]"
     ]
    },
    {
     "name": "stdout",
     "output_type": "stream",
     "text": [
      "[27,    1] loss: 0.043\n"
     ]
    },
    {
     "name": "stderr",
     "output_type": "stream",
     "text": [
      "100%|█████████████████████████████████████████████████████████████████████████████████| 30/30 [00:00<00:00, 454.55it/s]\n"
     ]
    },
    {
     "name": "stdout",
     "output_type": "stream",
     "text": [
      "[27,   30] loss: 1.069\n"
     ]
    },
    {
     "name": "stderr",
     "output_type": "stream",
     "text": [
      "\r",
      "  0%|                                                                                           | 0/30 [00:00<?, ?it/s]"
     ]
    },
    {
     "name": "stdout",
     "output_type": "stream",
     "text": [
      "[28,    1] loss: 0.043\n"
     ]
    },
    {
     "name": "stderr",
     "output_type": "stream",
     "text": [
      "100%|█████████████████████████████████████████████████████████████████████████████████| 30/30 [00:00<00:00, 476.20it/s]\n"
     ]
    },
    {
     "name": "stdout",
     "output_type": "stream",
     "text": [
      "[28,   30] loss: 1.069\n"
     ]
    },
    {
     "name": "stderr",
     "output_type": "stream",
     "text": [
      "100%|█████████████████████████████████████████████████████████████████████████████████| 30/30 [00:00<00:00, 422.55it/s]"
     ]
    },
    {
     "name": "stdout",
     "output_type": "stream",
     "text": [
      "[29,    1] loss: 0.043\n",
      "[29,   30] loss: 1.069\n"
     ]
    },
    {
     "name": "stderr",
     "output_type": "stream",
     "text": [
      "\n",
      "100%|█████████████████████████████████████████████████████████████████████████████████| 30/30 [00:00<00:00, 461.54it/s]"
     ]
    },
    {
     "name": "stdout",
     "output_type": "stream",
     "text": [
      "[30,    1] loss: 0.043\n",
      "[30,   30] loss: 1.069\n"
     ]
    },
    {
     "name": "stderr",
     "output_type": "stream",
     "text": [
      "\n",
      "  0%|                                                                                           | 0/30 [00:00<?, ?it/s]"
     ]
    },
    {
     "name": "stdout",
     "output_type": "stream",
     "text": [
      "[31,    1] loss: 0.043\n",
      "[31,   30] loss: 1.069\n"
     ]
    },
    {
     "name": "stderr",
     "output_type": "stream",
     "text": [
      "100%|█████████████████████████████████████████████████████████████████████████████████| 30/30 [00:00<00:00, 468.75it/s]\n",
      "100%|█████████████████████████████████████████████████████████████████████████████████| 30/30 [00:00<00:00, 476.18it/s]"
     ]
    },
    {
     "name": "stdout",
     "output_type": "stream",
     "text": [
      "[32,    1] loss: 0.043\n",
      "[32,   30] loss: 1.069\n"
     ]
    },
    {
     "name": "stderr",
     "output_type": "stream",
     "text": [
      "\n",
      "100%|█████████████████████████████████████████████████████████████████████████████████| 30/30 [00:00<00:00, 483.87it/s]"
     ]
    },
    {
     "name": "stdout",
     "output_type": "stream",
     "text": [
      "[33,    1] loss: 0.043\n",
      "[33,   30] loss: 1.069\n"
     ]
    },
    {
     "name": "stderr",
     "output_type": "stream",
     "text": [
      "\n",
      "100%|█████████████████████████████████████████████████████████████████████████████████| 30/30 [00:00<00:00, 461.54it/s]"
     ]
    },
    {
     "name": "stdout",
     "output_type": "stream",
     "text": [
      "[34,    1] loss: 0.043\n",
      "[34,   30] loss: 1.069\n"
     ]
    },
    {
     "name": "stderr",
     "output_type": "stream",
     "text": [
      "\n",
      "100%|█████████████████████████████████████████████████████████████████████████████████| 30/30 [00:00<00:00, 476.20it/s]"
     ]
    },
    {
     "name": "stdout",
     "output_type": "stream",
     "text": [
      "[35,    1] loss: 0.043\n",
      "[35,   30] loss: 1.069\n"
     ]
    },
    {
     "name": "stderr",
     "output_type": "stream",
     "text": [
      "\n",
      "100%|█████████████████████████████████████████████████████████████████████████████████| 30/30 [00:00<00:00, 468.75it/s]"
     ]
    },
    {
     "name": "stdout",
     "output_type": "stream",
     "text": [
      "[36,    1] loss: 0.043\n",
      "[36,   30] loss: 1.069\n"
     ]
    },
    {
     "name": "stderr",
     "output_type": "stream",
     "text": [
      "\n",
      "  0%|                                                                                           | 0/30 [00:00<?, ?it/s]"
     ]
    },
    {
     "name": "stdout",
     "output_type": "stream",
     "text": [
      "[37,    1] loss: 0.043\n"
     ]
    },
    {
     "name": "stderr",
     "output_type": "stream",
     "text": [
      "100%|█████████████████████████████████████████████████████████████████████████████████| 30/30 [00:00<00:00, 428.58it/s]\n"
     ]
    },
    {
     "name": "stdout",
     "output_type": "stream",
     "text": [
      "[37,   30] loss: 1.069\n"
     ]
    },
    {
     "name": "stderr",
     "output_type": "stream",
     "text": [
      "100%|█████████████████████████████████████████████████████████████████████████████████| 30/30 [00:00<00:00, 422.54it/s]"
     ]
    },
    {
     "name": "stdout",
     "output_type": "stream",
     "text": [
      "[38,    1] loss: 0.043\n",
      "[38,   30] loss: 1.069\n"
     ]
    },
    {
     "name": "stderr",
     "output_type": "stream",
     "text": [
      "\n",
      "  0%|                                                                                           | 0/30 [00:00<?, ?it/s]"
     ]
    },
    {
     "name": "stdout",
     "output_type": "stream",
     "text": [
      "[39,    1] loss: 0.043\n"
     ]
    },
    {
     "name": "stderr",
     "output_type": "stream",
     "text": [
      "100%|█████████████████████████████████████████████████████████████████████████████████| 30/30 [00:00<00:00, 441.16it/s]\n"
     ]
    },
    {
     "name": "stdout",
     "output_type": "stream",
     "text": [
      "[39,   30] loss: 1.069\n"
     ]
    },
    {
     "name": "stderr",
     "output_type": "stream",
     "text": [
      "\r",
      "  0%|                                                                                           | 0/30 [00:00<?, ?it/s]"
     ]
    },
    {
     "name": "stdout",
     "output_type": "stream",
     "text": [
      "[40,    1] loss: 0.043\n"
     ]
    },
    {
     "name": "stderr",
     "output_type": "stream",
     "text": [
      "100%|█████████████████████████████████████████████████████████████████████████████████| 30/30 [00:00<00:00, 410.97it/s]\n"
     ]
    },
    {
     "name": "stdout",
     "output_type": "stream",
     "text": [
      "[40,   30] loss: 1.069\n"
     ]
    },
    {
     "name": "stderr",
     "output_type": "stream",
     "text": [
      "100%|█████████████████████████████████████████████████████████████████████████████████| 30/30 [00:00<00:00, 441.17it/s]"
     ]
    },
    {
     "name": "stdout",
     "output_type": "stream",
     "text": [
      "[41,    1] loss: 0.043\n",
      "[41,   30] loss: 1.069\n"
     ]
    },
    {
     "name": "stderr",
     "output_type": "stream",
     "text": [
      "\n",
      "  0%|                                                                                           | 0/30 [00:00<?, ?it/s]"
     ]
    },
    {
     "name": "stdout",
     "output_type": "stream",
     "text": [
      "[42,    1] loss: 0.043\n"
     ]
    },
    {
     "name": "stderr",
     "output_type": "stream",
     "text": [
      "100%|█████████████████████████████████████████████████████████████████████████████████| 30/30 [00:00<00:00, 447.52it/s]\n"
     ]
    },
    {
     "name": "stdout",
     "output_type": "stream",
     "text": [
      "[42,   30] loss: 1.069\n"
     ]
    },
    {
     "name": "stderr",
     "output_type": "stream",
     "text": [
      "\r",
      "  0%|                                                                                           | 0/30 [00:00<?, ?it/s]"
     ]
    },
    {
     "name": "stdout",
     "output_type": "stream",
     "text": [
      "[43,    1] loss: 0.043\n"
     ]
    },
    {
     "name": "stderr",
     "output_type": "stream",
     "text": [
      "100%|█████████████████████████████████████████████████████████████████████████████████| 30/30 [00:00<00:00, 294.77it/s]\n"
     ]
    },
    {
     "name": "stdout",
     "output_type": "stream",
     "text": [
      "[43,   30] loss: 1.069\n"
     ]
    },
    {
     "name": "stderr",
     "output_type": "stream",
     "text": [
      "\r",
      "  0%|                                                                                           | 0/30 [00:00<?, ?it/s]"
     ]
    },
    {
     "name": "stdout",
     "output_type": "stream",
     "text": [
      "[44,    1] loss: 0.043\n"
     ]
    },
    {
     "name": "stderr",
     "output_type": "stream",
     "text": [
      "\r",
      "100%|█████████████████████████████████████████████████████████████████████████████████| 30/30 [00:00<00:00, 337.07it/s]"
     ]
    },
    {
     "name": "stdout",
     "output_type": "stream",
     "text": [
      "[44,   30] loss: 1.069\n"
     ]
    },
    {
     "name": "stderr",
     "output_type": "stream",
     "text": [
      "\n",
      "100%|█████████████████████████████████████████████████████████████████████████████████| 30/30 [00:00<00:00, 461.30it/s]\n"
     ]
    },
    {
     "name": "stdout",
     "output_type": "stream",
     "text": [
      "[45,    1] loss: 0.043\n",
      "[45,   30] loss: 1.069\n"
     ]
    },
    {
     "name": "stderr",
     "output_type": "stream",
     "text": [
      "\r",
      "  0%|                                                                                           | 0/30 [00:00<?, ?it/s]"
     ]
    },
    {
     "name": "stdout",
     "output_type": "stream",
     "text": [
      "[46,    1] loss: 0.043\n"
     ]
    },
    {
     "name": "stderr",
     "output_type": "stream",
     "text": [
      "100%|█████████████████████████████████████████████████████████████████████████████████| 30/30 [00:00<00:00, 441.18it/s]\n"
     ]
    },
    {
     "name": "stdout",
     "output_type": "stream",
     "text": [
      "[46,   30] loss: 1.069\n"
     ]
    },
    {
     "name": "stderr",
     "output_type": "stream",
     "text": [
      "100%|█████████████████████████████████████████████████████████████████████████████████| 30/30 [00:00<00:00, 468.72it/s]"
     ]
    },
    {
     "name": "stdout",
     "output_type": "stream",
     "text": [
      "[47,    1] loss: 0.043\n",
      "[47,   30] loss: 1.069\n"
     ]
    },
    {
     "name": "stderr",
     "output_type": "stream",
     "text": [
      "\n",
      "100%|█████████████████████████████████████████████████████████████████████████████████| 30/30 [00:00<00:00, 491.80it/s]"
     ]
    },
    {
     "name": "stdout",
     "output_type": "stream",
     "text": [
      "[48,    1] loss: 0.043\n",
      "[48,   30] loss: 1.069\n"
     ]
    },
    {
     "name": "stderr",
     "output_type": "stream",
     "text": [
      "\n",
      "100%|█████████████████████████████████████████████████████████████████████████████████| 30/30 [00:00<00:00, 483.85it/s]"
     ]
    },
    {
     "name": "stdout",
     "output_type": "stream",
     "text": [
      "[49,    1] loss: 0.043\n",
      "[49,   30] loss: 1.069\n"
     ]
    },
    {
     "name": "stderr",
     "output_type": "stream",
     "text": [
      "\n",
      "100%|█████████████████████████████████████████████████████████████████████████████████| 30/30 [00:00<00:00, 454.54it/s]"
     ]
    },
    {
     "name": "stdout",
     "output_type": "stream",
     "text": [
      "[50,    1] loss: 0.043\n",
      "[50,   30] loss: 1.069\n",
      "done training\n"
     ]
    },
    {
     "name": "stderr",
     "output_type": "stream",
     "text": [
      "\n"
     ]
    }
   ],
   "source": [
    "for epoch in range(50):\n",
    "    \n",
    "    running_loss = 0.0\n",
    "    \n",
    "    for count in tqdm(range(30)):\n",
    "        \n",
    "        optimizer.zero_grad()\n",
    "        \n",
    "        output = net(input[count*5 : (count+1)*5 ])\n",
    "        loss = criterion(output, labels[count*5 : (count+1)*5])\n",
    "        loss.backward()\n",
    "        optimizer.step()\n",
    "        \n",
    "        running_loss+=loss.item()\n",
    "        \n",
    "        if count%29 == 0:\n",
    "            print('[%d,%5d] loss: %.3f' %\n",
    "                 (epoch + 1, count+1, running_loss/29))\n",
    "            \n",
    "            running_loss = 0.0\n",
    "print(\"done training\")"
   ]
  },
  {
   "cell_type": "code",
   "execution_count": 60,
   "id": "26461efb",
   "metadata": {},
   "outputs": [],
   "source": [
    "torch.save(net, 'course_0.pth')"
   ]
  },
  {
   "cell_type": "code",
   "execution_count": 65,
   "id": "a5515280",
   "metadata": {},
   "outputs": [
    {
     "name": "stdout",
     "output_type": "stream",
     "text": [
      "tensor([[ 2.4948e+00, -3.9628e-01, -1.8264e+00],\n",
      "        [ 2.4948e+00, -3.9628e-01, -1.8264e+00],\n",
      "        [ 2.4948e+00, -3.9628e-01, -1.8264e+00],\n",
      "        [ 2.4948e+00, -3.9628e-01, -1.8264e+00],\n",
      "        [ 2.4948e+00, -3.9628e-01, -1.8264e+00],\n",
      "        [ 2.4948e+00, -3.9628e-01, -1.8264e+00],\n",
      "        [ 2.4948e+00, -3.9628e-01, -1.8264e+00],\n",
      "        [ 2.4948e+00, -3.9628e-01, -1.8264e+00],\n",
      "        [ 2.4948e+00, -3.9628e-01, -1.8264e+00],\n",
      "        [ 2.4948e+00, -3.9628e-01, -1.8264e+00],\n",
      "        [ 2.4948e+00, -3.9628e-01, -1.8264e+00],\n",
      "        [ 2.4948e+00, -3.9628e-01, -1.8264e+00],\n",
      "        [ 2.4948e+00, -3.9628e-01, -1.8264e+00],\n",
      "        [ 2.4948e+00, -3.9628e-01, -1.8264e+00],\n",
      "        [ 2.4948e+00, -3.9628e-01, -1.8264e+00],\n",
      "        [ 2.4948e+00, -3.9628e-01, -1.8264e+00],\n",
      "        [ 2.4948e+00, -3.9628e-01, -1.8264e+00],\n",
      "        [ 2.4948e+00, -3.9628e-01, -1.8264e+00],\n",
      "        [ 2.4948e+00, -3.9628e-01, -1.8264e+00],\n",
      "        [ 2.4948e+00, -3.9628e-01, -1.8264e+00],\n",
      "        [ 2.4948e+00, -3.9628e-01, -1.8264e+00],\n",
      "        [ 2.4948e+00, -3.9628e-01, -1.8264e+00],\n",
      "        [ 2.4948e+00, -3.9628e-01, -1.8264e+00],\n",
      "        [ 2.4948e+00, -3.9628e-01, -1.8264e+00],\n",
      "        [ 2.4948e+00, -3.9628e-01, -1.8264e+00],\n",
      "        [ 2.4948e+00, -3.9628e-01, -1.8264e+00],\n",
      "        [ 2.4948e+00, -3.9628e-01, -1.8264e+00],\n",
      "        [ 2.4948e+00, -3.9628e-01, -1.8264e+00],\n",
      "        [ 2.4948e+00, -3.9628e-01, -1.8264e+00],\n",
      "        [ 2.4948e+00, -3.9628e-01, -1.8264e+00],\n",
      "        [ 2.4948e+00, -3.9628e-01, -1.8264e+00],\n",
      "        [ 2.4948e+00, -3.9628e-01, -1.8264e+00],\n",
      "        [ 2.4948e+00, -3.9628e-01, -1.8264e+00],\n",
      "        [ 2.4948e+00, -3.9628e-01, -1.8264e+00],\n",
      "        [ 2.4948e+00, -3.9628e-01, -1.8264e+00],\n",
      "        [ 2.4948e+00, -3.9628e-01, -1.8264e+00],\n",
      "        [ 2.4948e+00, -3.9628e-01, -1.8264e+00],\n",
      "        [ 2.4948e+00, -3.9628e-01, -1.8264e+00],\n",
      "        [ 2.4948e+00, -3.9628e-01, -1.8264e+00],\n",
      "        [ 2.4948e+00, -3.9628e-01, -1.8264e+00],\n",
      "        [ 2.4948e+00, -3.9628e-01, -1.8264e+00],\n",
      "        [ 2.4948e+00, -3.9628e-01, -1.8264e+00],\n",
      "        [ 2.4948e+00, -3.9628e-01, -1.8264e+00],\n",
      "        [ 2.4948e+00, -3.9628e-01, -1.8264e+00],\n",
      "        [ 2.4948e+00, -3.9628e-01, -1.8264e+00],\n",
      "        [ 2.4948e+00, -3.9628e-01, -1.8264e+00],\n",
      "        [ 2.4948e+00, -3.9628e-01, -1.8264e+00],\n",
      "        [ 2.4948e+00, -3.9628e-01, -1.8264e+00],\n",
      "        [ 2.4948e+00, -3.9628e-01, -1.8264e+00],\n",
      "        [ 2.4948e+00, -3.9628e-01, -1.8264e+00],\n",
      "        [-1.5959e+00,  1.0248e+00,  8.9302e-01],\n",
      "        [-1.7386e+00,  1.0732e+00,  9.9051e-01],\n",
      "        [-2.1983e+00,  1.2349e+00,  1.2962e+00],\n",
      "        [-1.5402e+00,  1.0023e+00,  8.6003e-01],\n",
      "        [-2.0134e+00,  1.1694e+00,  1.1739e+00],\n",
      "        [-2.1814e+00,  1.2269e+00,  1.2877e+00],\n",
      "        [-2.2653e+00,  1.2568e+00,  1.3431e+00],\n",
      "        [-2.5592e-01,  5.5287e-01,  2.6130e-03],\n",
      "        [-1.6962e+00,  1.0593e+00,  9.6089e-01],\n",
      "        [-1.5121e+00,  9.9158e-01,  8.4244e-01],\n",
      "        [-7.2533e-01,  7.1712e-01,  3.1600e-01],\n",
      "        [-1.5871e+00,  1.0191e+00,  8.9079e-01],\n",
      "        [-9.0943e-01,  7.8369e-01,  4.3603e-01],\n",
      "        [-2.3515e+00,  1.2870e+00,  1.4005e+00],\n",
      "        [-4.6314e-01,  6.2607e-01,  1.4003e-01],\n",
      "        [-1.2638e+00,  9.0811e-01,  6.7208e-01],\n",
      "        [-2.3850e+00,  1.2973e+00,  1.4248e+00],\n",
      "        [-1.0574e+00,  8.3505e-01,  5.3540e-01],\n",
      "        [-2.2585e+00,  1.2543e+00,  1.3386e+00],\n",
      "        [-9.9053e-01,  8.1093e-01,  4.9171e-01],\n",
      "        [-2.8346e+00,  1.4550e+00,  1.7315e+00],\n",
      "        [-9.2288e-01,  7.8786e-01,  4.4574e-01],\n",
      "        [-2.7432e+00,  1.4245e+00,  1.6665e+00],\n",
      "        [-2.1814e+00,  1.2281e+00,  1.2862e+00],\n",
      "        [-1.2549e+00,  9.0460e-01,  6.6668e-01],\n",
      "        [-1.3730e+00,  9.4605e-01,  7.4535e-01],\n",
      "        [-2.0846e+00,  1.1952e+00,  1.2202e+00],\n",
      "        [-2.6975e+00,  1.4088e+00,  1.6344e+00],\n",
      "        [-2.1375e+00,  1.2117e+00,  1.2583e+00],\n",
      "        [ 1.2177e-03,  4.6476e-01, -1.7156e-01],\n",
      "        [-9.0510e-01,  7.8083e-01,  4.3494e-01],\n",
      "        [-6.0646e-01,  6.7672e-01,  2.3505e-01],\n",
      "        [-8.7612e-01,  7.7112e-01,  4.1502e-01],\n",
      "        [-3.1333e+00,  1.5596e+00,  1.9361e+00],\n",
      "        [-2.5277e+00,  1.3468e+00,  1.5207e+00],\n",
      "        [-2.0522e+00,  1.1817e+00,  1.2015e+00],\n",
      "        [-1.9517e+00,  1.1483e+00,  1.1320e+00],\n",
      "        [-1.7481e+00,  1.0767e+00,  9.9656e-01],\n",
      "        [-1.3985e+00,  9.5304e-01,  7.6491e-01],\n",
      "        [-1.4645e+00,  9.7583e-01,  8.0940e-01],\n",
      "        [-2.1012e+00,  1.1987e+00,  1.2344e+00],\n",
      "        [-2.1190e+00,  1.2057e+00,  1.2452e+00],\n",
      "        [-1.1086e+00,  8.5238e-01,  5.7038e-01],\n",
      "        [-2.2245e-01,  5.4137e-01, -2.0024e-02],\n",
      "        [-1.7067e+00,  1.0607e+00,  9.7089e-01],\n",
      "        [-1.4178e+00,  9.6028e-01,  7.7714e-01],\n",
      "        [-1.5596e+00,  1.0096e+00,  8.7231e-01],\n",
      "        [-1.3976e+00,  9.5403e-01,  7.6259e-01],\n",
      "        [ 4.0454e-01,  3.2217e-01, -4.3887e-01],\n",
      "        [-1.4029e+00,  9.5477e-01,  7.6759e-01],\n",
      "        [-4.0857e+00,  1.8521e+00,  2.5247e+00],\n",
      "        [-3.3814e+00,  1.6309e+00,  2.0916e+00],\n",
      "        [-3.8598e+00,  1.7897e+00,  2.3949e+00],\n",
      "        [-3.6896e+00,  1.7322e+00,  2.2890e+00],\n",
      "        [-3.9573e+00,  1.8143e+00,  2.4492e+00],\n",
      "        [-4.4672e+00,  1.9849e+00,  2.7636e+00],\n",
      "        [-2.8326e+00,  1.4527e+00,  1.7318e+00],\n",
      "        [-4.0736e+00,  1.8621e+00,  2.5281e+00],\n",
      "        [-3.8409e+00,  1.7833e+00,  2.3831e+00],\n",
      "        [-4.1766e+00,  1.8854e+00,  2.5833e+00],\n",
      "        [-3.0529e+00,  1.5327e+00,  1.8820e+00],\n",
      "        [-3.3941e+00,  1.6402e+00,  2.1034e+00],\n",
      "        [-3.5160e+00,  1.6794e+00,  2.1826e+00],\n",
      "        [-3.2726e+00,  1.5963e+00,  2.0212e+00],\n",
      "        [-3.4192e+00,  1.6388e+00,  2.1134e+00],\n",
      "        [-3.5438e+00,  1.6817e+00,  2.1962e+00],\n",
      "        [-3.4533e+00,  1.6608e+00,  2.1429e+00],\n",
      "        [-4.4214e+00,  1.9707e+00,  2.7366e+00],\n",
      "        [-4.6767e+00,  2.0515e+00,  2.8886e+00],\n",
      "        [-3.0647e+00,  1.5371e+00,  1.8901e+00],\n",
      "        [-3.7961e+00,  1.7655e+00,  2.3532e+00],\n",
      "        [-3.2574e+00,  1.5897e+00,  2.0102e+00],\n",
      "        [-4.5212e+00,  2.0038e+00,  2.7972e+00],\n",
      "        [-2.8910e+00,  1.4757e+00,  1.7697e+00],\n",
      "        [-3.7319e+00,  1.7459e+00,  2.3148e+00],\n",
      "        [-3.6902e+00,  1.7411e+00,  2.2961e+00],\n",
      "        [-2.7937e+00,  1.4412e+00,  1.7025e+00],\n",
      "        [-2.9105e+00,  1.4822e+00,  1.7837e+00],\n",
      "        [-3.7925e+00,  1.7624e+00,  2.3495e+00],\n",
      "        [-3.3610e+00,  1.6415e+00,  2.0900e+00],\n",
      "        [-3.8783e+00,  1.8006e+00,  2.4100e+00],\n",
      "        [-3.8427e+00,  1.7936e+00,  2.3917e+00],\n",
      "        [-3.7960e+00,  1.7628e+00,  2.3511e+00],\n",
      "        [-2.9110e+00,  1.4837e+00,  1.7828e+00],\n",
      "        [-3.5872e+00,  1.7029e+00,  2.2293e+00],\n",
      "        [-3.9587e+00,  1.8239e+00,  2.4571e+00],\n",
      "        [-3.8965e+00,  1.7908e+00,  2.4090e+00],\n",
      "        [-3.4757e+00,  1.6668e+00,  2.1567e+00],\n",
      "        [-2.8364e+00,  1.4559e+00,  1.7325e+00],\n",
      "        [-3.3236e+00,  1.6210e+00,  2.0600e+00],\n",
      "        [-3.8562e+00,  1.7811e+00,  2.3870e+00],\n",
      "        [-3.0920e+00,  1.5465e+00,  1.9092e+00],\n",
      "        [-3.3814e+00,  1.6309e+00,  2.0916e+00],\n",
      "        [-4.0805e+00,  1.8537e+00,  2.5241e+00],\n",
      "        [-3.9949e+00,  1.8235e+00,  2.4698e+00],\n",
      "        [-3.3303e+00,  1.6187e+00,  2.0613e+00],\n",
      "        [-3.1216e+00,  1.5551e+00,  1.9280e+00],\n",
      "        [-3.2212e+00,  1.5868e+00,  1.9926e+00],\n",
      "        [-3.7078e+00,  1.7312e+00,  2.2948e+00],\n",
      "        [-3.2425e+00,  1.5900e+00,  2.0040e+00]], grad_fn=<AddmmBackward0>)\n"
     ]
    }
   ],
   "source": [
    "res = net(input)\n",
    "print(res)"
   ]
  },
  {
   "cell_type": "code",
   "execution_count": 62,
   "id": "306a8823",
   "metadata": {},
   "outputs": [
    {
     "data": {
      "text/plain": [
       "LeNet(\n",
       "  (fc1): Linear(in_features=4, out_features=9, bias=True)\n",
       "  (fc2): Linear(in_features=9, out_features=5, bias=True)\n",
       "  (fc3): Linear(in_features=5, out_features=10, bias=True)\n",
       "  (fc4): Linear(in_features=10, out_features=3, bias=True)\n",
       ")"
      ]
     },
     "execution_count": 62,
     "metadata": {},
     "output_type": "execute_result"
    }
   ],
   "source": [
    "model = torch.load('course_0.pth')\n",
    "model.eval()"
   ]
  },
  {
   "cell_type": "code",
   "execution_count": 66,
   "id": "a01cc6ab",
   "metadata": {},
   "outputs": [
    {
     "name": "stdout",
     "output_type": "stream",
     "text": [
      "tensor([[ 2.4948e+00, -3.9628e-01, -1.8264e+00],\n",
      "        [ 2.4948e+00, -3.9628e-01, -1.8264e+00],\n",
      "        [ 2.4948e+00, -3.9628e-01, -1.8264e+00],\n",
      "        [ 2.4948e+00, -3.9628e-01, -1.8264e+00],\n",
      "        [ 2.4948e+00, -3.9628e-01, -1.8264e+00],\n",
      "        [ 2.4948e+00, -3.9628e-01, -1.8264e+00],\n",
      "        [ 2.4948e+00, -3.9628e-01, -1.8264e+00],\n",
      "        [ 2.4948e+00, -3.9628e-01, -1.8264e+00],\n",
      "        [ 2.4948e+00, -3.9628e-01, -1.8264e+00],\n",
      "        [ 2.4948e+00, -3.9628e-01, -1.8264e+00],\n",
      "        [ 2.4948e+00, -3.9628e-01, -1.8264e+00],\n",
      "        [ 2.4948e+00, -3.9628e-01, -1.8264e+00],\n",
      "        [ 2.4948e+00, -3.9628e-01, -1.8264e+00],\n",
      "        [ 2.4948e+00, -3.9628e-01, -1.8264e+00],\n",
      "        [ 2.4948e+00, -3.9628e-01, -1.8264e+00],\n",
      "        [ 2.4948e+00, -3.9628e-01, -1.8264e+00],\n",
      "        [ 2.4948e+00, -3.9628e-01, -1.8264e+00],\n",
      "        [ 2.4948e+00, -3.9628e-01, -1.8264e+00],\n",
      "        [ 2.4948e+00, -3.9628e-01, -1.8264e+00],\n",
      "        [ 2.4948e+00, -3.9628e-01, -1.8264e+00],\n",
      "        [ 2.4948e+00, -3.9628e-01, -1.8264e+00],\n",
      "        [ 2.4948e+00, -3.9628e-01, -1.8264e+00],\n",
      "        [ 2.4948e+00, -3.9628e-01, -1.8264e+00],\n",
      "        [ 2.4948e+00, -3.9628e-01, -1.8264e+00],\n",
      "        [ 2.4948e+00, -3.9628e-01, -1.8264e+00],\n",
      "        [ 2.4948e+00, -3.9628e-01, -1.8264e+00],\n",
      "        [ 2.4948e+00, -3.9628e-01, -1.8264e+00],\n",
      "        [ 2.4948e+00, -3.9628e-01, -1.8264e+00],\n",
      "        [ 2.4948e+00, -3.9628e-01, -1.8264e+00],\n",
      "        [ 2.4948e+00, -3.9628e-01, -1.8264e+00],\n",
      "        [ 2.4948e+00, -3.9628e-01, -1.8264e+00],\n",
      "        [ 2.4948e+00, -3.9628e-01, -1.8264e+00],\n",
      "        [ 2.4948e+00, -3.9628e-01, -1.8264e+00],\n",
      "        [ 2.4948e+00, -3.9628e-01, -1.8264e+00],\n",
      "        [ 2.4948e+00, -3.9628e-01, -1.8264e+00],\n",
      "        [ 2.4948e+00, -3.9628e-01, -1.8264e+00],\n",
      "        [ 2.4948e+00, -3.9628e-01, -1.8264e+00],\n",
      "        [ 2.4948e+00, -3.9628e-01, -1.8264e+00],\n",
      "        [ 2.4948e+00, -3.9628e-01, -1.8264e+00],\n",
      "        [ 2.4948e+00, -3.9628e-01, -1.8264e+00],\n",
      "        [ 2.4948e+00, -3.9628e-01, -1.8264e+00],\n",
      "        [ 2.4948e+00, -3.9628e-01, -1.8264e+00],\n",
      "        [ 2.4948e+00, -3.9628e-01, -1.8264e+00],\n",
      "        [ 2.4948e+00, -3.9628e-01, -1.8264e+00],\n",
      "        [ 2.4948e+00, -3.9628e-01, -1.8264e+00],\n",
      "        [ 2.4948e+00, -3.9628e-01, -1.8264e+00],\n",
      "        [ 2.4948e+00, -3.9628e-01, -1.8264e+00],\n",
      "        [ 2.4948e+00, -3.9628e-01, -1.8264e+00],\n",
      "        [ 2.4948e+00, -3.9628e-01, -1.8264e+00],\n",
      "        [ 2.4948e+00, -3.9628e-01, -1.8264e+00],\n",
      "        [-1.5959e+00,  1.0248e+00,  8.9302e-01],\n",
      "        [-1.7386e+00,  1.0732e+00,  9.9051e-01],\n",
      "        [-2.1983e+00,  1.2349e+00,  1.2962e+00],\n",
      "        [-1.5402e+00,  1.0023e+00,  8.6003e-01],\n",
      "        [-2.0134e+00,  1.1694e+00,  1.1739e+00],\n",
      "        [-2.1814e+00,  1.2269e+00,  1.2877e+00],\n",
      "        [-2.2653e+00,  1.2568e+00,  1.3431e+00],\n",
      "        [-2.5592e-01,  5.5287e-01,  2.6130e-03],\n",
      "        [-1.6962e+00,  1.0593e+00,  9.6089e-01],\n",
      "        [-1.5121e+00,  9.9158e-01,  8.4244e-01],\n",
      "        [-7.2533e-01,  7.1712e-01,  3.1600e-01],\n",
      "        [-1.5871e+00,  1.0191e+00,  8.9079e-01],\n",
      "        [-9.0943e-01,  7.8369e-01,  4.3603e-01],\n",
      "        [-2.3515e+00,  1.2870e+00,  1.4005e+00],\n",
      "        [-4.6314e-01,  6.2607e-01,  1.4003e-01],\n",
      "        [-1.2638e+00,  9.0811e-01,  6.7208e-01],\n",
      "        [-2.3850e+00,  1.2973e+00,  1.4248e+00],\n",
      "        [-1.0574e+00,  8.3505e-01,  5.3540e-01],\n",
      "        [-2.2585e+00,  1.2543e+00,  1.3386e+00],\n",
      "        [-9.9053e-01,  8.1093e-01,  4.9171e-01],\n",
      "        [-2.8346e+00,  1.4550e+00,  1.7315e+00],\n",
      "        [-9.2288e-01,  7.8786e-01,  4.4574e-01],\n",
      "        [-2.7432e+00,  1.4245e+00,  1.6665e+00],\n",
      "        [-2.1814e+00,  1.2281e+00,  1.2862e+00],\n",
      "        [-1.2549e+00,  9.0460e-01,  6.6668e-01],\n",
      "        [-1.3730e+00,  9.4605e-01,  7.4535e-01],\n",
      "        [-2.0846e+00,  1.1952e+00,  1.2202e+00],\n",
      "        [-2.6975e+00,  1.4088e+00,  1.6344e+00],\n",
      "        [-2.1375e+00,  1.2117e+00,  1.2583e+00],\n",
      "        [ 1.2177e-03,  4.6476e-01, -1.7156e-01],\n",
      "        [-9.0510e-01,  7.8083e-01,  4.3494e-01],\n",
      "        [-6.0646e-01,  6.7672e-01,  2.3505e-01],\n",
      "        [-8.7612e-01,  7.7112e-01,  4.1502e-01],\n",
      "        [-3.1333e+00,  1.5596e+00,  1.9361e+00],\n",
      "        [-2.5277e+00,  1.3468e+00,  1.5207e+00],\n",
      "        [-2.0522e+00,  1.1817e+00,  1.2015e+00],\n",
      "        [-1.9517e+00,  1.1483e+00,  1.1320e+00],\n",
      "        [-1.7481e+00,  1.0767e+00,  9.9656e-01],\n",
      "        [-1.3985e+00,  9.5304e-01,  7.6491e-01],\n",
      "        [-1.4645e+00,  9.7583e-01,  8.0940e-01],\n",
      "        [-2.1012e+00,  1.1987e+00,  1.2344e+00],\n",
      "        [-2.1190e+00,  1.2057e+00,  1.2452e+00],\n",
      "        [-1.1086e+00,  8.5238e-01,  5.7038e-01],\n",
      "        [-2.2245e-01,  5.4137e-01, -2.0024e-02],\n",
      "        [-1.7067e+00,  1.0607e+00,  9.7089e-01],\n",
      "        [-1.4178e+00,  9.6028e-01,  7.7714e-01],\n",
      "        [-1.5596e+00,  1.0096e+00,  8.7231e-01],\n",
      "        [-1.3976e+00,  9.5403e-01,  7.6259e-01],\n",
      "        [ 4.0454e-01,  3.2217e-01, -4.3887e-01],\n",
      "        [-1.4029e+00,  9.5477e-01,  7.6759e-01],\n",
      "        [-4.0857e+00,  1.8521e+00,  2.5247e+00],\n",
      "        [-3.3814e+00,  1.6309e+00,  2.0916e+00],\n",
      "        [-3.8598e+00,  1.7897e+00,  2.3949e+00],\n",
      "        [-3.6896e+00,  1.7322e+00,  2.2890e+00],\n",
      "        [-3.9573e+00,  1.8143e+00,  2.4492e+00],\n",
      "        [-4.4672e+00,  1.9849e+00,  2.7636e+00],\n",
      "        [-2.8326e+00,  1.4527e+00,  1.7318e+00],\n",
      "        [-4.0736e+00,  1.8621e+00,  2.5281e+00],\n",
      "        [-3.8409e+00,  1.7833e+00,  2.3831e+00],\n",
      "        [-4.1766e+00,  1.8854e+00,  2.5833e+00],\n",
      "        [-3.0529e+00,  1.5327e+00,  1.8820e+00],\n",
      "        [-3.3941e+00,  1.6402e+00,  2.1034e+00],\n",
      "        [-3.5160e+00,  1.6794e+00,  2.1826e+00],\n",
      "        [-3.2726e+00,  1.5963e+00,  2.0212e+00],\n",
      "        [-3.4192e+00,  1.6388e+00,  2.1134e+00],\n",
      "        [-3.5438e+00,  1.6817e+00,  2.1962e+00],\n",
      "        [-3.4533e+00,  1.6608e+00,  2.1429e+00],\n",
      "        [-4.4214e+00,  1.9707e+00,  2.7366e+00],\n",
      "        [-4.6767e+00,  2.0515e+00,  2.8886e+00],\n",
      "        [-3.0647e+00,  1.5371e+00,  1.8901e+00],\n",
      "        [-3.7961e+00,  1.7655e+00,  2.3532e+00],\n",
      "        [-3.2574e+00,  1.5897e+00,  2.0102e+00],\n",
      "        [-4.5212e+00,  2.0038e+00,  2.7972e+00],\n",
      "        [-2.8910e+00,  1.4757e+00,  1.7697e+00],\n",
      "        [-3.7319e+00,  1.7459e+00,  2.3148e+00],\n",
      "        [-3.6902e+00,  1.7411e+00,  2.2961e+00],\n",
      "        [-2.7937e+00,  1.4412e+00,  1.7025e+00],\n",
      "        [-2.9105e+00,  1.4822e+00,  1.7837e+00],\n",
      "        [-3.7925e+00,  1.7624e+00,  2.3495e+00],\n",
      "        [-3.3610e+00,  1.6415e+00,  2.0900e+00],\n",
      "        [-3.8783e+00,  1.8006e+00,  2.4100e+00],\n",
      "        [-3.8427e+00,  1.7936e+00,  2.3917e+00],\n",
      "        [-3.7960e+00,  1.7628e+00,  2.3511e+00],\n",
      "        [-2.9110e+00,  1.4837e+00,  1.7828e+00],\n",
      "        [-3.5872e+00,  1.7029e+00,  2.2293e+00],\n",
      "        [-3.9587e+00,  1.8239e+00,  2.4571e+00],\n",
      "        [-3.8965e+00,  1.7908e+00,  2.4090e+00],\n",
      "        [-3.4757e+00,  1.6668e+00,  2.1567e+00],\n",
      "        [-2.8364e+00,  1.4559e+00,  1.7325e+00],\n",
      "        [-3.3236e+00,  1.6210e+00,  2.0600e+00],\n",
      "        [-3.8562e+00,  1.7811e+00,  2.3870e+00],\n",
      "        [-3.0920e+00,  1.5465e+00,  1.9092e+00],\n",
      "        [-3.3814e+00,  1.6309e+00,  2.0916e+00],\n",
      "        [-4.0805e+00,  1.8537e+00,  2.5241e+00],\n",
      "        [-3.9949e+00,  1.8235e+00,  2.4698e+00],\n",
      "        [-3.3303e+00,  1.6187e+00,  2.0613e+00],\n",
      "        [-3.1216e+00,  1.5551e+00,  1.9280e+00],\n",
      "        [-3.2212e+00,  1.5868e+00,  1.9926e+00],\n",
      "        [-3.7078e+00,  1.7312e+00,  2.2948e+00],\n",
      "        [-3.2425e+00,  1.5900e+00,  2.0040e+00]], grad_fn=<AddmmBackward0>)\n"
     ]
    }
   ],
   "source": [
    "res = model(input)\n",
    "print(res)"
   ]
  },
  {
   "cell_type": "code",
   "execution_count": null,
   "id": "3878f654",
   "metadata": {},
   "outputs": [],
   "source": []
  }
 ],
 "metadata": {
  "kernelspec": {
   "display_name": "Python 3 (ipykernel)",
   "language": "python",
   "name": "python3"
  },
  "language_info": {
   "codemirror_mode": {
    "name": "ipython",
    "version": 3
   },
   "file_extension": ".py",
   "mimetype": "text/x-python",
   "name": "python",
   "nbconvert_exporter": "python",
   "pygments_lexer": "ipython3",
   "version": "3.8.16"
  }
 },
 "nbformat": 4,
 "nbformat_minor": 5
}
